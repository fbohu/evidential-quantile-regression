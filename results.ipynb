{
 "cells": [
  {
   "cell_type": "code",
   "execution_count": 20,
   "metadata": {},
   "outputs": [],
   "source": [
    "import numpy as np\n",
    "import matplotlib.pyplot as plt\n",
    "import pickle as pickle\n",
    "import pandas as pd"
   ]
  },
  {
   "cell_type": "code",
   "execution_count": 21,
   "metadata": {},
   "outputs": [],
   "source": [
    "datasets = ['boston', 'concrete', 'energy-efficiency', 'kin8nm', 'naval', 'power-plant', 'protein', 'wine', 'yacht']"
   ]
  },
  {
   "cell_type": "code",
   "execution_count": 22,
   "metadata": {},
   "outputs": [
    {
     "name": "stdout",
     "output_type": "stream",
     "text": [
      "boston & $0.57 \\pm 0.07$ & $0.54 \\pm 0.03$ &  $0.50 \\pm 0.04$ &$5.54 \\pm 0.22$ & $5.44 \\pm 0.10$ &  $5.40 \\pm 0.38$ &$9.27$ & $4.21$ &  $1.00$  \\\\\n",
      "concrete & $1.13 \\pm 0.13$ & $1.11 \\pm 0.06$ &  $1.11 \\pm 0.09$ &$6.87 \\pm 0.23$ & $6.78 \\pm 0.09$ &  $6.79 \\pm 0.18$ &$15.60$ & $4.29$ &  $1.00$  \\\\\n",
      "energy-efficiency & $0.30 \\pm 0.05$ & $0.28 \\pm 0.02$ &  $0.24 \\pm 0.03$ &$3.86 \\pm 0.34$ & $3.68 \\pm 0.15$ &  $3.40 \\pm 0.26$ &$9.03$ & $4.05$ &  $1.00$  \\\\\n",
      "kin8nm & $0.02 \\pm 0.00$ & $0.02 \\pm 0.00$ &  $0.02 \\pm 0.00$ &$-1.53 \\pm 0.11$ & $-1.67 \\pm 0.02$ &  $-1.72 \\pm 0.06$ &$8.91$ & $3.88$ &  $1.00$  \\\\\n",
      "naval & $0.00 \\pm 0.00$ & $0.00 \\pm 0.00$ &  $0.00 \\pm 0.00$ &$-10.28 \\pm 0.30$ & $-10.26 \\pm 0.14$ &  $-11.03 \\pm 0.29$ &$8.66$ & $3.96$ &  $1.00$  \\\\\n",
      "power-plant & $0.88 \\pm 0.03$ & $0.86 \\pm 0.01$ &  $0.86 \\pm 0.01$ &$6.42 \\pm 0.07$ & $6.36 \\pm 0.03$ &  $6.48 \\pm 0.04$ &$8.96$ & $4.11$ &  $1.00$  \\\\\n",
      "protein & $0.74 \\pm 0.02$ & $0.73 \\pm 0.01$ &  $0.74 \\pm 0.03$ &$5.76 \\pm 0.05$ & $5.72 \\pm 0.03$ &  $5.84 \\pm 0.13$ &$17.20$ & $3.95$ &  $1.00$  \\\\\n",
      "wine & $0.12 \\pm 0.00$ & $0.12 \\pm 0.00$ &  $0.12 \\pm 0.00$ &$2.49 \\pm 0.16$ & $2.41 \\pm 0.03$ &  $2.46 \\pm 0.09$ &$7.90$ & $3.75$ &  $1.00$  \\\\\n",
      "yacht & $0.20 \\pm 0.04$ & $0.20 \\pm 0.02$ &  $0.16 \\pm 0.03$ &$2.52 \\pm 0.44$ & $2.40 \\pm 0.23$ &  $1.76 \\pm 0.39$ &$9.29$ & $4.21$ &  $1.00$  \\\\\n"
     ]
    }
   ],
   "source": [
    "for d in datasets:\n",
    "    # create a dataframe for each model and their results\n",
    "    dropout_df = pd.DataFrame()\n",
    "    ensemble_df = pd.DataFrame()\n",
    "    evidental_df = pd.DataFrame()\n",
    "\n",
    "    for i in range(0, 20):\n",
    "        with open('results/'+d+'/dropout'+str(i)+'.pickle', 'rb') as handle:\n",
    "            dropout = pickle.load(handle)\n",
    "        \n",
    "        # add the dropout results to the dataframe\n",
    "        dropout_df = pd.concat([dropout_df, pd.DataFrame(dropout)], ignore_index=True)\n",
    "\n",
    "\n",
    "        with open('results/'+d+'/ensemble'+str(i)+'.pickle', 'rb') as handle:\n",
    "            ensemble = pickle.load(handle)\n",
    "\n",
    "        # add the ensemble results to the dataframe\n",
    "        ensemble_df = pd.concat([ensemble_df, pd.DataFrame(ensemble)], ignore_index=True)\n",
    "\n",
    "        with open('results/'+d+'/evidental'+str(i)+'.pickle', 'rb') as handle:\n",
    "            evidental = pickle.load(handle)\n",
    "        \n",
    "        # add the evidental results to the dataframe\n",
    "        evidental_df = pd.concat([evidental_df, pd.DataFrame(evidental)], ignore_index=True)\n",
    "\n",
    "    # print the results as a latex table\n",
    "    print(d + \" & ${:,.2f} \\pm {:,.2f}$ & ${:,.2f} \\pm {:,.2f}$ &  ${:,.2f} \\pm {:,.2f}$ &${:,.2f} \\pm {:,.2f}$ & ${:,.2f} \\pm {:,.2f}$ &  ${:,.2f} \\pm {:,.2f}$ &${:,.2f}$ & ${:,.2f}$ &  ${:,.2f}$  \\\\\\\\\".format(dropout_df.tls.mean(), 2.0*dropout_df.tls.std(), ensemble_df.tls.mean(), 2.0*ensemble_df.tls.std(), evidental_df.tls.mean(), 2.0*evidental_df.tls.std(), dropout_df.nlls.mean(), 2.0*dropout_df.nlls.std(), ensemble_df.nlls.mean(), 2.0*ensemble_df.nlls.std(), evidental_df.nlls.mean(), 2.0*evidental_df.nlls.std(), dropout_df.times.mean()/evidental_df.times.mean(), ensemble_df.times.mean()/evidental_df.times.mean(), evidental_df.times.mean()/evidental_df.times.mean()))\n",
    "    "
   ]
  },
  {
   "cell_type": "code",
   "execution_count": 83,
   "metadata": {},
   "outputs": [],
   "source": [
    "d = 'naval'\n",
    "# create a dataframe for each model and their results\n",
    "dropout_df = pd.DataFrame()\n",
    "ensemble_df = pd.DataFrame()\n",
    "evidental_df = pd.DataFrame()\n",
    "\n",
    "for i in range(0, 20):\n",
    "    with open('results/'+d+'/dropout'+str(i)+'.pickle', 'rb') as handle:\n",
    "        dropout = pickle.load(handle)\n",
    "    \n",
    "    # add the dropout results to the dataframe\n",
    "    dropout_df = pd.concat([dropout_df, pd.DataFrame(dropout)], ignore_index=True)\n",
    "\n",
    "    with open('results/'+d+'/evidental'+str(i)+'.pickle', 'rb') as handle:\n",
    "        evidental = pickle.load(handle)\n",
    "    \n",
    "    # add the evidental results to the dataframe\n",
    "    evidental_df = pd.concat([evidental_df, pd.DataFrame(evidental)], ignore_index=True)\n",
    "\n",
    "    with open('results/'+d+'/ensemble'+str(i)+'.pickle', 'rb') as handle:\n",
    "        ensemble = pickle.load(handle)\n",
    "\n",
    "    # add the ensemble results to the dataframe\n",
    "    ensemble_df = pd.concat([ensemble_df, pd.DataFrame(ensemble)], ignore_index=True)\n"
   ]
  },
  {
   "cell_type": "code",
   "execution_count": 77,
   "metadata": {},
   "outputs": [
    {
     "name": "stdout",
     "output_type": "stream",
     "text": [
      "tls       0.000254\n",
      "nlls    -10.283414\n",
      "times     0.039275\n",
      "dtype: float64\n",
      "tls       0.000257\n",
      "nlls    -10.257618\n",
      "times     0.017999\n",
      "dtype: float64\n",
      "tls       0.000170\n",
      "nlls    -11.031592\n",
      "times     0.004451\n",
      "dtype: float64\n"
     ]
    }
   ],
   "source": [
    "print(dropout_df.mean())\n",
    "print(ensemble_df.mean())\n",
    "print(evidental_df.mean())"
   ]
  },
  {
   "cell_type": "code",
   "execution_count": 78,
   "metadata": {},
   "outputs": [
    {
     "name": "stdout",
     "output_type": "stream",
     "text": [
      "         tls       nlls     times\n",
      "0   0.000168 -11.007589  0.004518\n",
      "1   0.000154 -11.163473  0.004539\n",
      "2   0.000193 -10.817928  0.004673\n",
      "3   0.000168 -11.063522  0.004487\n",
      "4   0.000169 -10.997805  0.004356\n",
      "5   0.000154 -11.178482  0.004361\n",
      "6   0.000164 -11.076382  0.003877\n",
      "7   0.000159 -11.150146  0.004019\n",
      "8   0.000184 -10.821964  0.004048\n",
      "9   0.000173 -10.987614  0.004596\n",
      "10  0.000166 -11.088681  0.004953\n",
      "11  0.000207 -10.765720  0.004046\n",
      "12  0.000164 -11.121509  0.004511\n",
      "13  0.000179 -10.936621  0.004078\n",
      "14  0.000158 -11.147751  0.004735\n",
      "15  0.000202 -10.747925  0.004521\n",
      "16  0.000155 -11.203383  0.004788\n",
      "17  0.000156 -11.160593  0.004475\n",
      "18  0.000160 -11.180112  0.005365\n",
      "19  0.000169 -11.014645  0.004068\n"
     ]
    }
   ],
   "source": [
    "#print(dropout_df)\n",
    "#print(ensemble_df)\n",
    "print(evidental_df)"
   ]
  },
  {
   "cell_type": "code",
   "execution_count": 79,
   "metadata": {},
   "outputs": [
    {
     "name": "stdout",
     "output_type": "stream",
     "text": [
      "8.824376070450132\n",
      "4.043961425828528\n",
      "1.0\n"
     ]
    }
   ],
   "source": [
    "print(dropout_df.times.mean()/evidental_df.times.mean())\n",
    "print(ensemble_df.times.mean()/evidental_df.times.mean())\n",
    "print(evidental_df.times.mean()/evidental_df.times.mean())"
   ]
  },
  {
   "attachments": {},
   "cell_type": "markdown",
   "metadata": {},
   "source": []
  },
  {
   "cell_type": "code",
   "execution_count": null,
   "metadata": {},
   "outputs": [],
   "source": []
  },
  {
   "cell_type": "code",
   "execution_count": null,
   "metadata": {},
   "outputs": [],
   "source": []
  }
 ],
 "metadata": {
  "kernelspec": {
   "display_name": "evi_q_env",
   "language": "python",
   "name": "python3"
  },
  "language_info": {
   "codemirror_mode": {
    "name": "ipython",
    "version": 3
   },
   "file_extension": ".py",
   "mimetype": "text/x-python",
   "name": "python",
   "nbconvert_exporter": "python",
   "pygments_lexer": "ipython3",
   "version": "3.10.7"
  },
  "orig_nbformat": 4
 },
 "nbformat": 4,
 "nbformat_minor": 2
}
